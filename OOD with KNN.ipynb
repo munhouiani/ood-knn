{
 "cells": [
  {
   "cell_type": "markdown",
   "source": [
    "# OOD with KNN"
   ],
   "metadata": {
    "application/vnd.databricks.v1+cell": {
     "showTitle": false,
     "cellMetadata": {},
     "nuid": "788d6005-519b-4573-a81a-f85c29918541",
     "inputWidgets": {},
     "title": ""
    }
   }
  },
  {
   "cell_type": "markdown",
   "source": [
    "## Import Libraries"
   ],
   "metadata": {
    "application/vnd.databricks.v1+cell": {
     "showTitle": false,
     "cellMetadata": {},
     "nuid": "31fa12c0-2f06-43f2-b1c6-0266132458d3",
     "inputWidgets": {},
     "title": ""
    }
   }
  },
  {
   "cell_type": "code",
   "source": [
    "import os\n",
    "import pandas as pd\n",
    "import seaborn as sn\n",
    "import torch\n",
    "import torch.nn as nn\n",
    "import torch.nn.functional as F\n",
    "import torchvision\n",
    "import numpy as np\n",
    "import faiss\n",
    "from IPython import display\n",
    "from lightning import LightningModule, Trainer, seed_everything\n",
    "from lightning.pytorch.callbacks import LearningRateMonitor\n",
    "from lightning.pytorch.callbacks.progress import TQDMProgressBar\n",
    "from lightning.pytorch.loggers import CSVLogger\n",
    "from torch.optim.lr_scheduler import OneCycleLR\n",
    "from torchmetrics.functional import accuracy"
   ],
   "metadata": {
    "collapsed": false,
    "jupyter": {
     "outputs_hidden": false
    },
    "application/vnd.databricks.v1+cell": {
     "showTitle": false,
     "cellMetadata": {},
     "nuid": "248ce47b-8254-4433-9a2f-fb2689e57e39",
     "inputWidgets": {},
     "title": ""
    }
   },
   "outputs": [],
   "execution_count": 0
  },
  {
   "cell_type": "markdown",
   "source": [
    "### Configuration"
   ],
   "metadata": {
    "application/vnd.databricks.v1+cell": {
     "showTitle": false,
     "cellMetadata": {},
     "nuid": "ad89981f-a6d4-444d-afab-0fd9fec4ae78",
     "inputWidgets": {},
     "title": ""
    }
   }
  },
  {
   "cell_type": "code",
   "source": [
    "# use a fixed random seed\n",
    "seed_everything(7, workers=True)\n",
    "\n",
    "PATH_DATASETS = \"datasets\"\n",
    "BATCH_SIZE = 64\n",
    "NUM_WORKERS = int(os.cpu_count())"
   ],
   "metadata": {
    "application/vnd.databricks.v1+cell": {
     "showTitle": false,
     "cellMetadata": {},
     "nuid": "0c7d8071-56c2-4beb-9ee9-c815a36e86e9",
     "inputWidgets": {},
     "title": ""
    }
   },
   "outputs": [
    {
     "output_type": "display_data",
     "metadata": {
      "application/vnd.databricks.v1+output": {
       "datasetInfos": [],
       "data": "/local_disk0/.ephemeral_nfs/cluster_libraries/python/lib/python3.9/site-packages/lightning/pytorch/utilities/seed.py:48: LightningDeprecationWarning: `lightning.pytorch.utilities.seed.seed_everything` has been deprecated in v1.8.0 and will be removed in v1.10.0. Please use `lightning.lite.utilities.seed.seed_everything` instead.\n  rank_zero_deprecation(\nGlobal seed set to 7\n",
       "removedWidgets": [],
       "addedWidgets": {},
       "metadata": {},
       "type": "ansi",
       "arguments": {}
      }
     },
     "data": {
      "text/plain": [
       "/local_disk0/.ephemeral_nfs/cluster_libraries/python/lib/python3.9/site-packages/lightning/pytorch/utilities/seed.py:48: LightningDeprecationWarning: `lightning.pytorch.utilities.seed.seed_everything` has been deprecated in v1.8.0 and will be removed in v1.10.0. Please use `lightning.lite.utilities.seed.seed_everything` instead.\n  rank_zero_deprecation(\nGlobal seed set to 7\n"
      ]
     }
    }
   ],
   "execution_count": 0
  },
  {
   "cell_type": "markdown",
   "source": [
    "### Load CIFAR-10 Dataset"
   ],
   "metadata": {
    "application/vnd.databricks.v1+cell": {
     "showTitle": false,
     "cellMetadata": {},
     "nuid": "07195e77-3774-4189-899f-3202421c42be",
     "inputWidgets": {},
     "title": ""
    }
   }
  },
  {
   "cell_type": "code",
   "source": [
    "train_transforms = torchvision.transforms.Compose(\n",
    "    [\n",
    "        torchvision.transforms.RandomCrop(32, padding=4),\n",
    "        torchvision.transforms.RandomHorizontalFlip(),\n",
    "        torchvision.transforms.ToTensor(),\n",
    "        # borrow from pl_bolts.transforms.dataset_normalizations.cifar10_normalization\n",
    "        torchvision.transforms.Normalize(\n",
    "            mean=[x / 255.0 for x in [125.3, 123.0, 113.9]],\n",
    "            std=[x / 255.0 for x in [63.0, 62.1, 66.7]],\n",
    "        ),\n",
    "    ]\n",
    ")\n",
    "\n",
    "test_transforms = torchvision.transforms.Compose(\n",
    "    [\n",
    "        torchvision.transforms.ToTensor(),\n",
    "        # borrow from pl_bolts.transforms.dataset_normalizations.cifar10_normalization\n",
    "        torchvision.transforms.Normalize(\n",
    "            mean=[x / 255.0 for x in [125.3, 123.0, 113.9]],\n",
    "            std=[x / 255.0 for x in [63.0, 62.1, 66.7]],\n",
    "        ),\n",
    "    ]\n",
    ")\n",
    "\n",
    "train_dataset = torchvision.datasets.CIFAR10(\n",
    "    root=PATH_DATASETS, train=True, download=True, transform=train_transforms\n",
    ")\n",
    "train_loader = torch.utils.data.DataLoader(\n",
    "    train_dataset,\n",
    "    batch_size=BATCH_SIZE,\n",
    "    shuffle=True,\n",
    "    num_workers=NUM_WORKERS,\n",
    ")\n",
    "val_dataset = torchvision.datasets.CIFAR10(\n",
    "    root=PATH_DATASETS, train=False, download=True, transform=test_transforms\n",
    ")\n",
    "val_loader = torch.utils.data.DataLoader(\n",
    "    val_dataset, batch_size=BATCH_SIZE, shuffle=False, num_workers=NUM_WORKERS\n",
    ")"
   ],
   "metadata": {
    "application/vnd.databricks.v1+cell": {
     "showTitle": false,
     "cellMetadata": {},
     "nuid": "14c2464b-0394-4c68-8b2e-8c74910077c5",
     "inputWidgets": {},
     "title": ""
    }
   },
   "outputs": [
    {
     "output_type": "display_data",
     "metadata": {
      "application/vnd.databricks.v1+output": {
       "datasetInfos": [],
       "data": "Files already downloaded and verified\nFiles already downloaded and verified\n",
       "removedWidgets": [],
       "addedWidgets": {},
       "metadata": {},
       "type": "ansi",
       "arguments": {}
      }
     },
     "data": {
      "text/plain": [
       "Files already downloaded and verified\nFiles already downloaded and verified\n"
      ]
     }
    }
   ],
   "execution_count": 0
  },
  {
   "cell_type": "markdown",
   "source": [
    "### Resnet\n",
    "\n",
    "Modify the pre-existing Resnet for CIFAR10 images (32x32)"
   ],
   "metadata": {
    "application/vnd.databricks.v1+cell": {
     "showTitle": false,
     "cellMetadata": {},
     "nuid": "95832767-dbef-4870-80bf-917f2ed97be4",
     "inputWidgets": {},
     "title": ""
    }
   }
  },
  {
   "cell_type": "code",
   "source": [
    "def create_model():\n",
    "    # do not use pre-trained model\n",
    "    model = torchvision.models.resnet18(weights=None, num_classes=10)\n",
    "    model.conv1 = nn.Conv2d(\n",
    "        3, 64, kernel_size=(3, 3), stride=(1, 1), padding=(1, 1), bias=False\n",
    "    )\n",
    "    model.maxpool = nn.Identity()\n",
    "    return model"
   ],
   "metadata": {
    "application/vnd.databricks.v1+cell": {
     "showTitle": false,
     "cellMetadata": {},
     "nuid": "4630b5dc-76b8-433a-90e9-78b99f7cc47a",
     "inputWidgets": {},
     "title": ""
    }
   },
   "outputs": [],
   "execution_count": 0
  },
  {
   "cell_type": "markdown",
   "source": [
    "### Wrap Resnet with Pytorch Lightning"
   ],
   "metadata": {
    "application/vnd.databricks.v1+cell": {
     "showTitle": false,
     "cellMetadata": {},
     "nuid": "9df9fb3e-d69d-4fa6-ab71-1f4c31dc8807",
     "inputWidgets": {},
     "title": ""
    }
   }
  },
  {
   "cell_type": "code",
   "source": [
    "class LitResnet(LightningModule):\n",
    "    def __init__(self, lr=0.05, num_classes=10):\n",
    "        super().__init__()\n",
    "\n",
    "        self.save_hyperparameters()\n",
    "        self.model = create_model()\n",
    "\n",
    "    def forward(self, x):\n",
    "        out = self.model(x)\n",
    "        return F.log_softmax(out, dim=1)\n",
    "\n",
    "    def features(self, x):\n",
    "        x = self.model.conv1(x)\n",
    "        x = self.model.bn1(x)\n",
    "        x = self.model.relu(x)\n",
    "        x = self.model.maxpool(x)\n",
    "\n",
    "        x = self.model.layer1(x)\n",
    "        x = self.model.layer2(x)\n",
    "        x = self.model.layer3(x)\n",
    "        x = self.model.layer4(x)\n",
    "\n",
    "        return x\n",
    "\n",
    "    def training_step(self, batch, batch_idx):\n",
    "        x, y = batch\n",
    "        logits = self(x)\n",
    "        loss = F.nll_loss(logits, y)\n",
    "        self.log(\"train_loss\", loss)\n",
    "        return loss\n",
    "\n",
    "    def evaluate(self, batch, stage=None):\n",
    "        x, y = batch\n",
    "        logits = self(x)\n",
    "        loss = F.nll_loss(logits, y)\n",
    "        preds = torch.argmax(logits, dim=1)\n",
    "        acc = accuracy(preds, y, task=\"multiclass\", num_classes=num_classes)\n",
    "\n",
    "        if stage:\n",
    "            self.log(f\"{stage}_loss\", loss, prog_bar=True)\n",
    "            self.log(f\"{stage}_acc\", acc, prog_bar=True)\n",
    "\n",
    "    def validation_step(self, batch, batch_idx):\n",
    "        self.evaluate(batch, \"val\")\n",
    "\n",
    "    def test_step(self, batch, batch_idx):\n",
    "        self.evaluate(batch, \"test\")\n",
    "\n",
    "    def configure_optimizers(self):\n",
    "        optimizer = torch.optim.SGD(\n",
    "            self.parameters(),\n",
    "            lr=self.hparams.lr,\n",
    "            momentum=0.9,\n",
    "            weight_decay=5e-4,\n",
    "        )\n",
    "        scheduler_dict = {\n",
    "            \"scheduler\": OneCycleLR(\n",
    "                optimizer,\n",
    "                0.1,\n",
    "                epochs=self.trainer.max_epochs,\n",
    "                total_steps=self.trainer.estimated_stepping_batches,\n",
    "            ),\n",
    "            \"interval\": \"step\",\n",
    "        }\n",
    "        return {\"optimizer\": optimizer, \"lr_scheduler\": scheduler_dict}"
   ],
   "metadata": {
    "application/vnd.databricks.v1+cell": {
     "showTitle": false,
     "cellMetadata": {},
     "nuid": "23878650-32cd-4092-9af3-3a8f56ca4be1",
     "inputWidgets": {},
     "title": ""
    }
   },
   "outputs": [],
   "execution_count": 0
  },
  {
   "cell_type": "markdown",
   "source": [
    "### Train Resnet"
   ],
   "metadata": {
    "application/vnd.databricks.v1+cell": {
     "showTitle": false,
     "cellMetadata": {},
     "nuid": "a0c0f5cb-e6ea-4454-a1bd-7f863202e945",
     "inputWidgets": {},
     "title": ""
    }
   }
  },
  {
   "cell_type": "code",
   "source": [
    "model = LitResnet(lr=0.05, num_classes=10)\n",
    "\n",
    "trainer = Trainer(\n",
    "    max_epochs=30,\n",
    "    accelerator=\"auto\",\n",
    "    devices=\"auto\",\n",
    "    logger=CSVLogger(save_dir=\"logs/\"),\n",
    "    callbacks=[\n",
    "        LearningRateMonitor(logging_interval=\"step\"),\n",
    "        TQDMProgressBar(refresh_rate=10),\n",
    "    ],\n",
    "    deterministic=True,\n",
    ")\n",
    "\n",
    "trainer.fit(model, train_loader, val_loader)\n",
    "trainer.test(model, dataloaders=val_loader)"
   ],
   "metadata": {
    "pycharm": {
     "is_executing": true
    },
    "application/vnd.databricks.v1+cell": {
     "showTitle": false,
     "cellMetadata": {},
     "nuid": "b4bec756-f3d6-480d-93e9-b6603391370a",
     "inputWidgets": {},
     "title": ""
    }
   },
   "outputs": [
    {
     "output_type": "display_data",
     "metadata": {
      "application/vnd.databricks.v1+output": {
       "datasetInfos": [],
       "data": "GPU available: True (cuda), used: True\nTPU available: False, using: 0 TPU cores\nIPU available: False, using: 0 IPUs\nHPU available: False, using: 0 HPUs\nLOCAL_RANK: 0 - CUDA_VISIBLE_DEVICES: [0]\nLoading `train_dataloader` to estimate number of stepping batches.\n\n  | Name  | Type   | Params\n---------------------------------\n0 | model | ResNet | 11.2 M\n---------------------------------\n11.2 M    Trainable params\n0         Non-trainable params\n11.2 M    Total params\n44.696    Total estimated model params size (MB)\n",
       "removedWidgets": [],
       "addedWidgets": {},
       "metadata": {},
       "type": "ansi",
       "arguments": {}
      }
     },
     "data": {
      "text/plain": [
       "GPU available: True (cuda), used: True\nTPU available: False, using: 0 TPU cores\nIPU available: False, using: 0 IPUs\nHPU available: False, using: 0 HPUs\nLOCAL_RANK: 0 - CUDA_VISIBLE_DEVICES: [0]\nLoading `train_dataloader` to estimate number of stepping batches.\n\n  | Name  | Type   | Params\n---------------------------------\n0 | model | ResNet | 11.2 M\n---------------------------------\n11.2 M    Trainable params\n0         Non-trainable params\n11.2 M    Total params\n44.696    Total estimated model params size (MB)\n"
      ]
     }
    },
    {
     "output_type": "display_data",
     "metadata": {
      "application/vnd.databricks.v1+output": {
       "datasetInfos": [],
       "data": {
        "text/plain": "Sanity Checking: 0it [00:00, ?it/s]",
        "application/vnd.jupyter.widget-view+json": {
         "version_major": 2,
         "version_minor": 0,
         "model_id": "514de2e5746f4e8ea21546afdcf00c36"
        }
       },
       "removedWidgets": [],
       "addedWidgets": {},
       "metadata": {
        "kernelSessionId": "2b67c067-f027e3ff5b5d1ac2cfd7c900"
       },
       "type": "mimeBundle",
       "arguments": {}
      }
     },
     "data": {
      "text/plain": "Sanity Checking: 0it [00:00, ?it/s]",
      "application/vnd.jupyter.widget-view+json": {
       "version_major": 2,
       "version_minor": 0,
       "model_id": "514de2e5746f4e8ea21546afdcf00c36"
      }
     }
    },
    {
     "output_type": "display_data",
     "metadata": {
      "application/vnd.databricks.v1+output": {
       "datasetInfos": [],
       "data": {
        "text/plain": "Training: 0it [00:00, ?it/s]",
        "application/vnd.jupyter.widget-view+json": {
         "version_major": 2,
         "version_minor": 0,
         "model_id": "c419b160c4f2499aa9f73bf51d62439c"
        }
       },
       "removedWidgets": [],
       "addedWidgets": {},
       "metadata": {
        "kernelSessionId": "2b67c067-f027e3ff5b5d1ac2cfd7c900"
       },
       "type": "mimeBundle",
       "arguments": {}
      }
     },
     "data": {
      "text/plain": "Training: 0it [00:00, ?it/s]",
      "application/vnd.jupyter.widget-view+json": {
       "version_major": 2,
       "version_minor": 0,
       "model_id": "c419b160c4f2499aa9f73bf51d62439c"
      }
     }
    },
    {
     "output_type": "display_data",
     "metadata": {
      "application/vnd.databricks.v1+output": {
       "datasetInfos": [],
       "data": {
        "text/plain": "Validation: 0it [00:00, ?it/s]",
        "application/vnd.jupyter.widget-view+json": {
         "version_major": 2,
         "version_minor": 0,
         "model_id": "40c22ac49aa740c0a367450a73f30c11"
        }
       },
       "removedWidgets": [],
       "addedWidgets": {},
       "metadata": {
        "kernelSessionId": "2b67c067-f027e3ff5b5d1ac2cfd7c900"
       },
       "type": "mimeBundle",
       "arguments": {}
      }
     },
     "data": {
      "text/plain": "Validation: 0it [00:00, ?it/s]",
      "application/vnd.jupyter.widget-view+json": {
       "version_major": 2,
       "version_minor": 0,
       "model_id": "40c22ac49aa740c0a367450a73f30c11"
      }
     }
    },
    {
     "output_type": "display_data",
     "metadata": {
      "application/vnd.databricks.v1+output": {
       "datasetInfos": [],
       "data": {
        "text/plain": "Validation: 0it [00:00, ?it/s]",
        "application/vnd.jupyter.widget-view+json": {
         "version_major": 2,
         "version_minor": 0,
         "model_id": "e26d57d4e7a84bc0ac2a9c8887de05ab"
        }
       },
       "removedWidgets": [],
       "addedWidgets": {},
       "metadata": {
        "kernelSessionId": "2b67c067-f027e3ff5b5d1ac2cfd7c900"
       },
       "type": "mimeBundle",
       "arguments": {}
      }
     },
     "data": {
      "text/plain": "Validation: 0it [00:00, ?it/s]",
      "application/vnd.jupyter.widget-view+json": {
       "version_major": 2,
       "version_minor": 0,
       "model_id": "e26d57d4e7a84bc0ac2a9c8887de05ab"
      }
     }
    },
    {
     "output_type": "display_data",
     "metadata": {
      "application/vnd.databricks.v1+output": {
       "datasetInfos": [],
       "data": {
        "text/plain": "Validation: 0it [00:00, ?it/s]",
        "application/vnd.jupyter.widget-view+json": {
         "version_major": 2,
         "version_minor": 0,
         "model_id": "f984dce9234b448c9de6e546bef17a48"
        }
       },
       "removedWidgets": [],
       "addedWidgets": {},
       "metadata": {
        "kernelSessionId": "2b67c067-f027e3ff5b5d1ac2cfd7c900"
       },
       "type": "mimeBundle",
       "arguments": {}
      }
     },
     "data": {
      "text/plain": "Validation: 0it [00:00, ?it/s]",
      "application/vnd.jupyter.widget-view+json": {
       "version_major": 2,
       "version_minor": 0,
       "model_id": "f984dce9234b448c9de6e546bef17a48"
      }
     }
    },
    {
     "output_type": "display_data",
     "metadata": {
      "application/vnd.databricks.v1+output": {
       "datasetInfos": [],
       "data": {
        "text/plain": "Validation: 0it [00:00, ?it/s]",
        "application/vnd.jupyter.widget-view+json": {
         "version_major": 2,
         "version_minor": 0,
         "model_id": "862c0cb613a84a468e63fd012bf5140e"
        }
       },
       "removedWidgets": [],
       "addedWidgets": {},
       "metadata": {
        "kernelSessionId": "2b67c067-f027e3ff5b5d1ac2cfd7c900"
       },
       "type": "mimeBundle",
       "arguments": {}
      }
     },
     "data": {
      "text/plain": "Validation: 0it [00:00, ?it/s]",
      "application/vnd.jupyter.widget-view+json": {
       "version_major": 2,
       "version_minor": 0,
       "model_id": "862c0cb613a84a468e63fd012bf5140e"
      }
     }
    },
    {
     "output_type": "display_data",
     "metadata": {
      "application/vnd.databricks.v1+output": {
       "datasetInfos": [],
       "data": {
        "text/plain": "Validation: 0it [00:00, ?it/s]",
        "application/vnd.jupyter.widget-view+json": {
         "version_major": 2,
         "version_minor": 0,
         "model_id": "bff53b24076049719b2147df791f986f"
        }
       },
       "removedWidgets": [],
       "addedWidgets": {},
       "metadata": {
        "kernelSessionId": "2b67c067-f027e3ff5b5d1ac2cfd7c900"
       },
       "type": "mimeBundle",
       "arguments": {}
      }
     },
     "data": {
      "text/plain": "Validation: 0it [00:00, ?it/s]",
      "application/vnd.jupyter.widget-view+json": {
       "version_major": 2,
       "version_minor": 0,
       "model_id": "bff53b24076049719b2147df791f986f"
      }
     }
    },
    {
     "output_type": "display_data",
     "metadata": {
      "application/vnd.databricks.v1+output": {
       "datasetInfos": [],
       "data": {
        "text/plain": "Validation: 0it [00:00, ?it/s]",
        "application/vnd.jupyter.widget-view+json": {
         "version_major": 2,
         "version_minor": 0,
         "model_id": "3ddf3d55647c4683b67dcf7a094371b2"
        }
       },
       "removedWidgets": [],
       "addedWidgets": {},
       "metadata": {
        "kernelSessionId": "2b67c067-f027e3ff5b5d1ac2cfd7c900"
       },
       "type": "mimeBundle",
       "arguments": {}
      }
     },
     "data": {
      "text/plain": "Validation: 0it [00:00, ?it/s]",
      "application/vnd.jupyter.widget-view+json": {
       "version_major": 2,
       "version_minor": 0,
       "model_id": "3ddf3d55647c4683b67dcf7a094371b2"
      }
     }
    },
    {
     "output_type": "display_data",
     "metadata": {
      "application/vnd.databricks.v1+output": {
       "datasetInfos": [],
       "data": {
        "text/plain": "Validation: 0it [00:00, ?it/s]",
        "application/vnd.jupyter.widget-view+json": {
         "version_major": 2,
         "version_minor": 0,
         "model_id": "2446c5a204a946b3a259380cb8a63adf"
        }
       },
       "removedWidgets": [],
       "addedWidgets": {},
       "metadata": {
        "kernelSessionId": "2b67c067-f027e3ff5b5d1ac2cfd7c900"
       },
       "type": "mimeBundle",
       "arguments": {}
      }
     },
     "data": {
      "text/plain": "Validation: 0it [00:00, ?it/s]",
      "application/vnd.jupyter.widget-view+json": {
       "version_major": 2,
       "version_minor": 0,
       "model_id": "2446c5a204a946b3a259380cb8a63adf"
      }
     }
    },
    {
     "output_type": "display_data",
     "metadata": {
      "application/vnd.databricks.v1+output": {
       "datasetInfos": [],
       "data": {
        "text/plain": "Validation: 0it [00:00, ?it/s]",
        "application/vnd.jupyter.widget-view+json": {
         "version_major": 2,
         "version_minor": 0,
         "model_id": "f1cac409a3024634a276fbfc26453f33"
        }
       },
       "removedWidgets": [],
       "addedWidgets": {},
       "metadata": {
        "kernelSessionId": "2b67c067-f027e3ff5b5d1ac2cfd7c900"
       },
       "type": "mimeBundle",
       "arguments": {}
      }
     },
     "data": {
      "text/plain": "Validation: 0it [00:00, ?it/s]",
      "application/vnd.jupyter.widget-view+json": {
       "version_major": 2,
       "version_minor": 0,
       "model_id": "f1cac409a3024634a276fbfc26453f33"
      }
     }
    },
    {
     "output_type": "display_data",
     "metadata": {
      "application/vnd.databricks.v1+output": {
       "datasetInfos": [],
       "data": {
        "text/plain": "Validation: 0it [00:00, ?it/s]",
        "application/vnd.jupyter.widget-view+json": {
         "version_major": 2,
         "version_minor": 0,
         "model_id": "38cbf9ec48ef4f0786273fcf54c2b824"
        }
       },
       "removedWidgets": [],
       "addedWidgets": {},
       "metadata": {
        "kernelSessionId": "2b67c067-f027e3ff5b5d1ac2cfd7c900"
       },
       "type": "mimeBundle",
       "arguments": {}
      }
     },
     "data": {
      "text/plain": "Validation: 0it [00:00, ?it/s]",
      "application/vnd.jupyter.widget-view+json": {
       "version_major": 2,
       "version_minor": 0,
       "model_id": "38cbf9ec48ef4f0786273fcf54c2b824"
      }
     }
    },
    {
     "output_type": "display_data",
     "metadata": {
      "application/vnd.databricks.v1+output": {
       "datasetInfos": [],
       "data": {
        "text/plain": "Validation: 0it [00:00, ?it/s]",
        "application/vnd.jupyter.widget-view+json": {
         "version_major": 2,
         "version_minor": 0,
         "model_id": "8cf9717d7a104b42a45ccc274951e60d"
        }
       },
       "removedWidgets": [],
       "addedWidgets": {},
       "metadata": {
        "kernelSessionId": "2b67c067-f027e3ff5b5d1ac2cfd7c900"
       },
       "type": "mimeBundle",
       "arguments": {}
      }
     },
     "data": {
      "text/plain": "Validation: 0it [00:00, ?it/s]",
      "application/vnd.jupyter.widget-view+json": {
       "version_major": 2,
       "version_minor": 0,
       "model_id": "8cf9717d7a104b42a45ccc274951e60d"
      }
     }
    },
    {
     "output_type": "display_data",
     "metadata": {
      "application/vnd.databricks.v1+output": {
       "datasetInfos": [],
       "data": {
        "text/plain": "Validation: 0it [00:00, ?it/s]",
        "application/vnd.jupyter.widget-view+json": {
         "version_major": 2,
         "version_minor": 0,
         "model_id": "d14ab2cae2d343f384868e9ac959f1b8"
        }
       },
       "removedWidgets": [],
       "addedWidgets": {},
       "metadata": {
        "kernelSessionId": "2b67c067-f027e3ff5b5d1ac2cfd7c900"
       },
       "type": "mimeBundle",
       "arguments": {}
      }
     },
     "data": {
      "text/plain": "Validation: 0it [00:00, ?it/s]",
      "application/vnd.jupyter.widget-view+json": {
       "version_major": 2,
       "version_minor": 0,
       "model_id": "d14ab2cae2d343f384868e9ac959f1b8"
      }
     }
    },
    {
     "output_type": "display_data",
     "metadata": {
      "application/vnd.databricks.v1+output": {
       "datasetInfos": [],
       "data": {
        "text/plain": "Validation: 0it [00:00, ?it/s]",
        "application/vnd.jupyter.widget-view+json": {
         "version_major": 2,
         "version_minor": 0,
         "model_id": "f3a9597af52b489cbe7a26d92dedb1dc"
        }
       },
       "removedWidgets": [],
       "addedWidgets": {},
       "metadata": {
        "kernelSessionId": "2b67c067-f027e3ff5b5d1ac2cfd7c900"
       },
       "type": "mimeBundle",
       "arguments": {}
      }
     },
     "data": {
      "text/plain": "Validation: 0it [00:00, ?it/s]",
      "application/vnd.jupyter.widget-view+json": {
       "version_major": 2,
       "version_minor": 0,
       "model_id": "f3a9597af52b489cbe7a26d92dedb1dc"
      }
     }
    },
    {
     "output_type": "display_data",
     "metadata": {
      "application/vnd.databricks.v1+output": {
       "datasetInfos": [],
       "data": {
        "text/plain": "Validation: 0it [00:00, ?it/s]",
        "application/vnd.jupyter.widget-view+json": {
         "version_major": 2,
         "version_minor": 0,
         "model_id": "a583b2b1582042078ceabbaa51cc3f59"
        }
       },
       "removedWidgets": [],
       "addedWidgets": {},
       "metadata": {
        "kernelSessionId": "2b67c067-f027e3ff5b5d1ac2cfd7c900"
       },
       "type": "mimeBundle",
       "arguments": {}
      }
     },
     "data": {
      "text/plain": "Validation: 0it [00:00, ?it/s]",
      "application/vnd.jupyter.widget-view+json": {
       "version_major": 2,
       "version_minor": 0,
       "model_id": "a583b2b1582042078ceabbaa51cc3f59"
      }
     }
    },
    {
     "output_type": "display_data",
     "metadata": {
      "application/vnd.databricks.v1+output": {
       "datasetInfos": [],
       "data": {
        "text/plain": "Validation: 0it [00:00, ?it/s]",
        "application/vnd.jupyter.widget-view+json": {
         "version_major": 2,
         "version_minor": 0,
         "model_id": "13a98980dd6c41f79f245bde20f54726"
        }
       },
       "removedWidgets": [],
       "addedWidgets": {},
       "metadata": {
        "kernelSessionId": "2b67c067-f027e3ff5b5d1ac2cfd7c900"
       },
       "type": "mimeBundle",
       "arguments": {}
      }
     },
     "data": {
      "text/plain": "Validation: 0it [00:00, ?it/s]",
      "application/vnd.jupyter.widget-view+json": {
       "version_major": 2,
       "version_minor": 0,
       "model_id": "13a98980dd6c41f79f245bde20f54726"
      }
     }
    },
    {
     "output_type": "display_data",
     "metadata": {
      "application/vnd.databricks.v1+output": {
       "datasetInfos": [],
       "data": {
        "text/plain": "Validation: 0it [00:00, ?it/s]",
        "application/vnd.jupyter.widget-view+json": {
         "version_major": 2,
         "version_minor": 0,
         "model_id": "0561bd5b3424419ab5c009498d10e2a6"
        }
       },
       "removedWidgets": [],
       "addedWidgets": {},
       "metadata": {
        "kernelSessionId": "2b67c067-f027e3ff5b5d1ac2cfd7c900"
       },
       "type": "mimeBundle",
       "arguments": {}
      }
     },
     "data": {
      "text/plain": "Validation: 0it [00:00, ?it/s]",
      "application/vnd.jupyter.widget-view+json": {
       "version_major": 2,
       "version_minor": 0,
       "model_id": "0561bd5b3424419ab5c009498d10e2a6"
      }
     }
    },
    {
     "output_type": "display_data",
     "metadata": {
      "application/vnd.databricks.v1+output": {
       "datasetInfos": [],
       "data": {
        "text/plain": "Validation: 0it [00:00, ?it/s]",
        "application/vnd.jupyter.widget-view+json": {
         "version_major": 2,
         "version_minor": 0,
         "model_id": "1d279412ec6a412ebf5024bbc128fb9a"
        }
       },
       "removedWidgets": [],
       "addedWidgets": {},
       "metadata": {
        "kernelSessionId": "2b67c067-f027e3ff5b5d1ac2cfd7c900"
       },
       "type": "mimeBundle",
       "arguments": {}
      }
     },
     "data": {
      "text/plain": "Validation: 0it [00:00, ?it/s]",
      "application/vnd.jupyter.widget-view+json": {
       "version_major": 2,
       "version_minor": 0,
       "model_id": "1d279412ec6a412ebf5024bbc128fb9a"
      }
     }
    },
    {
     "output_type": "display_data",
     "metadata": {
      "application/vnd.databricks.v1+output": {
       "datasetInfos": [],
       "data": {
        "text/plain": "Validation: 0it [00:00, ?it/s]",
        "application/vnd.jupyter.widget-view+json": {
         "version_major": 2,
         "version_minor": 0,
         "model_id": "28743be7498a4c549085ef5227d523cd"
        }
       },
       "removedWidgets": [],
       "addedWidgets": {},
       "metadata": {
        "kernelSessionId": "2b67c067-f027e3ff5b5d1ac2cfd7c900"
       },
       "type": "mimeBundle",
       "arguments": {}
      }
     },
     "data": {
      "text/plain": "Validation: 0it [00:00, ?it/s]",
      "application/vnd.jupyter.widget-view+json": {
       "version_major": 2,
       "version_minor": 0,
       "model_id": "28743be7498a4c549085ef5227d523cd"
      }
     }
    },
    {
     "output_type": "display_data",
     "metadata": {
      "application/vnd.databricks.v1+output": {
       "datasetInfos": [],
       "data": {
        "text/plain": "Validation: 0it [00:00, ?it/s]",
        "application/vnd.jupyter.widget-view+json": {
         "version_major": 2,
         "version_minor": 0,
         "model_id": "8e0a61cfb426459ba31b110db7883ccb"
        }
       },
       "removedWidgets": [],
       "addedWidgets": {},
       "metadata": {
        "kernelSessionId": "2b67c067-f027e3ff5b5d1ac2cfd7c900"
       },
       "type": "mimeBundle",
       "arguments": {}
      }
     },
     "data": {
      "text/plain": "Validation: 0it [00:00, ?it/s]",
      "application/vnd.jupyter.widget-view+json": {
       "version_major": 2,
       "version_minor": 0,
       "model_id": "8e0a61cfb426459ba31b110db7883ccb"
      }
     }
    },
    {
     "output_type": "display_data",
     "metadata": {
      "application/vnd.databricks.v1+output": {
       "datasetInfos": [],
       "data": {
        "text/plain": "Validation: 0it [00:00, ?it/s]",
        "application/vnd.jupyter.widget-view+json": {
         "version_major": 2,
         "version_minor": 0,
         "model_id": "5abe1307c0374abd91591e2aadc24b60"
        }
       },
       "removedWidgets": [],
       "addedWidgets": {},
       "metadata": {
        "kernelSessionId": "2b67c067-f027e3ff5b5d1ac2cfd7c900"
       },
       "type": "mimeBundle",
       "arguments": {}
      }
     },
     "data": {
      "text/plain": "Validation: 0it [00:00, ?it/s]",
      "application/vnd.jupyter.widget-view+json": {
       "version_major": 2,
       "version_minor": 0,
       "model_id": "5abe1307c0374abd91591e2aadc24b60"
      }
     }
    },
    {
     "output_type": "display_data",
     "metadata": {
      "application/vnd.databricks.v1+output": {
       "datasetInfos": [],
       "data": {
        "text/plain": "Validation: 0it [00:00, ?it/s]",
        "application/vnd.jupyter.widget-view+json": {
         "version_major": 2,
         "version_minor": 0,
         "model_id": "abc19388e6424aa8925a4b4fea6e4da0"
        }
       },
       "removedWidgets": [],
       "addedWidgets": {},
       "metadata": {
        "kernelSessionId": "2b67c067-f027e3ff5b5d1ac2cfd7c900"
       },
       "type": "mimeBundle",
       "arguments": {}
      }
     },
     "data": {
      "text/plain": "Validation: 0it [00:00, ?it/s]",
      "application/vnd.jupyter.widget-view+json": {
       "version_major": 2,
       "version_minor": 0,
       "model_id": "abc19388e6424aa8925a4b4fea6e4da0"
      }
     }
    },
    {
     "output_type": "display_data",
     "metadata": {
      "application/vnd.databricks.v1+output": {
       "datasetInfos": [],
       "data": {
        "text/plain": "Validation: 0it [00:00, ?it/s]",
        "application/vnd.jupyter.widget-view+json": {
         "version_major": 2,
         "version_minor": 0,
         "model_id": "886c783be9f241babec5031896b11ed9"
        }
       },
       "removedWidgets": [],
       "addedWidgets": {},
       "metadata": {
        "kernelSessionId": "2b67c067-f027e3ff5b5d1ac2cfd7c900"
       },
       "type": "mimeBundle",
       "arguments": {}
      }
     },
     "data": {
      "text/plain": "Validation: 0it [00:00, ?it/s]",
      "application/vnd.jupyter.widget-view+json": {
       "version_major": 2,
       "version_minor": 0,
       "model_id": "886c783be9f241babec5031896b11ed9"
      }
     }
    },
    {
     "output_type": "display_data",
     "metadata": {
      "application/vnd.databricks.v1+output": {
       "datasetInfos": [],
       "data": {
        "text/plain": "Validation: 0it [00:00, ?it/s]",
        "application/vnd.jupyter.widget-view+json": {
         "version_major": 2,
         "version_minor": 0,
         "model_id": "2315f9faa5f74bd3b23bb6cb04d55b6d"
        }
       },
       "removedWidgets": [],
       "addedWidgets": {},
       "metadata": {
        "kernelSessionId": "2b67c067-f027e3ff5b5d1ac2cfd7c900"
       },
       "type": "mimeBundle",
       "arguments": {}
      }
     },
     "data": {
      "text/plain": "Validation: 0it [00:00, ?it/s]",
      "application/vnd.jupyter.widget-view+json": {
       "version_major": 2,
       "version_minor": 0,
       "model_id": "2315f9faa5f74bd3b23bb6cb04d55b6d"
      }
     }
    },
    {
     "output_type": "display_data",
     "metadata": {
      "application/vnd.databricks.v1+output": {
       "datasetInfos": [],
       "data": {
        "text/plain": "Validation: 0it [00:00, ?it/s]",
        "application/vnd.jupyter.widget-view+json": {
         "version_major": 2,
         "version_minor": 0,
         "model_id": "dc3690ee284747fda7ed03c515287bda"
        }
       },
       "removedWidgets": [],
       "addedWidgets": {},
       "metadata": {
        "kernelSessionId": "2b67c067-f027e3ff5b5d1ac2cfd7c900"
       },
       "type": "mimeBundle",
       "arguments": {}
      }
     },
     "data": {
      "text/plain": "Validation: 0it [00:00, ?it/s]",
      "application/vnd.jupyter.widget-view+json": {
       "version_major": 2,
       "version_minor": 0,
       "model_id": "dc3690ee284747fda7ed03c515287bda"
      }
     }
    },
    {
     "output_type": "display_data",
     "metadata": {
      "application/vnd.databricks.v1+output": {
       "datasetInfos": [],
       "data": {
        "text/plain": "Validation: 0it [00:00, ?it/s]",
        "application/vnd.jupyter.widget-view+json": {
         "version_major": 2,
         "version_minor": 0,
         "model_id": "08dae5dace6e42fda424dba24c7e0909"
        }
       },
       "removedWidgets": [],
       "addedWidgets": {},
       "metadata": {
        "kernelSessionId": "2b67c067-f027e3ff5b5d1ac2cfd7c900"
       },
       "type": "mimeBundle",
       "arguments": {}
      }
     },
     "data": {
      "text/plain": "Validation: 0it [00:00, ?it/s]",
      "application/vnd.jupyter.widget-view+json": {
       "version_major": 2,
       "version_minor": 0,
       "model_id": "08dae5dace6e42fda424dba24c7e0909"
      }
     }
    },
    {
     "output_type": "display_data",
     "metadata": {
      "application/vnd.databricks.v1+output": {
       "datasetInfos": [],
       "data": {
        "text/plain": "Validation: 0it [00:00, ?it/s]",
        "application/vnd.jupyter.widget-view+json": {
         "version_major": 2,
         "version_minor": 0,
         "model_id": "c3fc7d281ed443a99f1e1bf4e6f354ea"
        }
       },
       "removedWidgets": [],
       "addedWidgets": {},
       "metadata": {
        "kernelSessionId": "2b67c067-f027e3ff5b5d1ac2cfd7c900"
       },
       "type": "mimeBundle",
       "arguments": {}
      }
     },
     "data": {
      "text/plain": "Validation: 0it [00:00, ?it/s]",
      "application/vnd.jupyter.widget-view+json": {
       "version_major": 2,
       "version_minor": 0,
       "model_id": "c3fc7d281ed443a99f1e1bf4e6f354ea"
      }
     }
    },
    {
     "output_type": "display_data",
     "metadata": {
      "application/vnd.databricks.v1+output": {
       "datasetInfos": [],
       "data": {
        "text/plain": "Validation: 0it [00:00, ?it/s]",
        "application/vnd.jupyter.widget-view+json": {
         "version_major": 2,
         "version_minor": 0,
         "model_id": "89e3c5033bbb49e7ad53cf81faa3229e"
        }
       },
       "removedWidgets": [],
       "addedWidgets": {},
       "metadata": {
        "kernelSessionId": "2b67c067-f027e3ff5b5d1ac2cfd7c900"
       },
       "type": "mimeBundle",
       "arguments": {}
      }
     },
     "data": {
      "text/plain": "Validation: 0it [00:00, ?it/s]",
      "application/vnd.jupyter.widget-view+json": {
       "version_major": 2,
       "version_minor": 0,
       "model_id": "89e3c5033bbb49e7ad53cf81faa3229e"
      }
     }
    },
    {
     "output_type": "display_data",
     "metadata": {
      "application/vnd.databricks.v1+output": {
       "datasetInfos": [],
       "data": {
        "text/plain": "Validation: 0it [00:00, ?it/s]",
        "application/vnd.jupyter.widget-view+json": {
         "version_major": 2,
         "version_minor": 0,
         "model_id": "518eab1066544bbc89f3fd473970de01"
        }
       },
       "removedWidgets": [],
       "addedWidgets": {},
       "metadata": {
        "kernelSessionId": "2b67c067-f027e3ff5b5d1ac2cfd7c900"
       },
       "type": "mimeBundle",
       "arguments": {}
      }
     },
     "data": {
      "text/plain": "Validation: 0it [00:00, ?it/s]",
      "application/vnd.jupyter.widget-view+json": {
       "version_major": 2,
       "version_minor": 0,
       "model_id": "518eab1066544bbc89f3fd473970de01"
      }
     }
    },
    {
     "output_type": "display_data",
     "metadata": {
      "application/vnd.databricks.v1+output": {
       "datasetInfos": [],
       "data": {
        "text/plain": "Validation: 0it [00:00, ?it/s]",
        "application/vnd.jupyter.widget-view+json": {
         "version_major": 2,
         "version_minor": 0,
         "model_id": "46de92b5f22f424094cb02d750a0c2a4"
        }
       },
       "removedWidgets": [],
       "addedWidgets": {},
       "metadata": {
        "kernelSessionId": "2b67c067-f027e3ff5b5d1ac2cfd7c900"
       },
       "type": "mimeBundle",
       "arguments": {}
      }
     },
     "data": {
      "text/plain": "Validation: 0it [00:00, ?it/s]",
      "application/vnd.jupyter.widget-view+json": {
       "version_major": 2,
       "version_minor": 0,
       "model_id": "46de92b5f22f424094cb02d750a0c2a4"
      }
     }
    },
    {
     "output_type": "display_data",
     "metadata": {
      "application/vnd.databricks.v1+output": {
       "datasetInfos": [],
       "data": {
        "text/plain": "Validation: 0it [00:00, ?it/s]",
        "application/vnd.jupyter.widget-view+json": {
         "version_major": 2,
         "version_minor": 0,
         "model_id": "16de1c5fa8d54d4f8ece62a357ee35c1"
        }
       },
       "removedWidgets": [],
       "addedWidgets": {},
       "metadata": {
        "kernelSessionId": "2b67c067-f027e3ff5b5d1ac2cfd7c900"
       },
       "type": "mimeBundle",
       "arguments": {}
      }
     },
     "data": {
      "text/plain": "Validation: 0it [00:00, ?it/s]",
      "application/vnd.jupyter.widget-view+json": {
       "version_major": 2,
       "version_minor": 0,
       "model_id": "16de1c5fa8d54d4f8ece62a357ee35c1"
      }
     }
    },
    {
     "output_type": "display_data",
     "metadata": {
      "application/vnd.databricks.v1+output": {
       "datasetInfos": [],
       "data": {
        "text/plain": "Validation: 0it [00:00, ?it/s]",
        "application/vnd.jupyter.widget-view+json": {
         "version_major": 2,
         "version_minor": 0,
         "model_id": "959edd7bc2ec4cbea3b50fb1f4362149"
        }
       },
       "removedWidgets": [],
       "addedWidgets": {},
       "metadata": {
        "kernelSessionId": "2b67c067-f027e3ff5b5d1ac2cfd7c900"
       },
       "type": "mimeBundle",
       "arguments": {}
      }
     },
     "data": {
      "text/plain": "Validation: 0it [00:00, ?it/s]",
      "application/vnd.jupyter.widget-view+json": {
       "version_major": 2,
       "version_minor": 0,
       "model_id": "959edd7bc2ec4cbea3b50fb1f4362149"
      }
     }
    },
    {
     "output_type": "display_data",
     "metadata": {
      "application/vnd.databricks.v1+output": {
       "datasetInfos": [],
       "data": "`Trainer.fit` stopped: `max_epochs=30` reached.\nLOCAL_RANK: 0 - CUDA_VISIBLE_DEVICES: [0]\n",
       "removedWidgets": [],
       "addedWidgets": {},
       "metadata": {},
       "type": "ansi",
       "arguments": {}
      }
     },
     "data": {
      "text/plain": [
       "`Trainer.fit` stopped: `max_epochs=30` reached.\nLOCAL_RANK: 0 - CUDA_VISIBLE_DEVICES: [0]\n"
      ]
     }
    },
    {
     "output_type": "display_data",
     "metadata": {
      "application/vnd.databricks.v1+output": {
       "datasetInfos": [],
       "data": {
        "text/plain": "Testing: 0it [00:00, ?it/s]",
        "application/vnd.jupyter.widget-view+json": {
         "version_major": 2,
         "version_minor": 0,
         "model_id": "156f0b245b5948118f685ec2af1e9271"
        }
       },
       "removedWidgets": [],
       "addedWidgets": {},
       "metadata": {
        "kernelSessionId": "2b67c067-f027e3ff5b5d1ac2cfd7c900"
       },
       "type": "mimeBundle",
       "arguments": {}
      }
     },
     "data": {
      "text/plain": "Testing: 0it [00:00, ?it/s]",
      "application/vnd.jupyter.widget-view+json": {
       "version_major": 2,
       "version_minor": 0,
       "model_id": "156f0b245b5948118f685ec2af1e9271"
      }
     }
    },
    {
     "output_type": "display_data",
     "metadata": {
      "application/vnd.databricks.v1+output": {
       "datasetInfos": [],
       "data": "<pre style=\"white-space:pre;overflow-x:auto;line-height:normal;font-family:Menlo,'DejaVu Sans Mono',consolas,'Courier New',monospace\">┏━━━━━━━━━━━━━━━━━━━━━━━━━━━┳━━━━━━━━━━━━━━━━━━━━━━━━━━━┓\n┃<span style=\"font-weight: bold\">        Test metric        </span>┃<span style=\"font-weight: bold\">       DataLoader 0        </span>┃\n┡━━━━━━━━━━━━━━━━━━━━━━━━━━━╇━━━━━━━━━━━━━━━━━━━━━━━━━━━┩\n│<span style=\"color: #008080; text-decoration-color: #008080\">         test_acc          </span>│<span style=\"color: #800080; text-decoration-color: #800080\">    0.9404000043869019     </span>│\n│<span style=\"color: #008080; text-decoration-color: #008080\">         test_loss         </span>│<span style=\"color: #800080; text-decoration-color: #800080\">    0.18965651094913483    </span>│\n└───────────────────────────┴───────────────────────────┘\n</pre>\n",
       "textData": null,
       "removedWidgets": [],
       "addedWidgets": {},
       "metadata": {},
       "type": "htmlSandbox",
       "arguments": {}
      }
     },
     "data": {
      "text/html": [
       "<pre style=\"white-space:pre;overflow-x:auto;line-height:normal;font-family:Menlo,'DejaVu Sans Mono',consolas,'Courier New',monospace\">┏━━━━━━━━━━━━━━━━━━━━━━━━━━━┳━━━━━━━━━━━━━━━━━━━━━━━━━━━┓\n┃<span style=\"font-weight: bold\">        Test metric        </span>┃<span style=\"font-weight: bold\">       DataLoader 0        </span>┃\n┡━━━━━━━━━━━━━━━━━━━━━━━━━━━╇━━━━━━━━━━━━━━━━━━━━━━━━━━━┩\n│<span style=\"color: #008080; text-decoration-color: #008080\">         test_acc          </span>│<span style=\"color: #800080; text-decoration-color: #800080\">    0.9404000043869019     </span>│\n│<span style=\"color: #008080; text-decoration-color: #008080\">         test_loss         </span>│<span style=\"color: #800080; text-decoration-color: #800080\">    0.18965651094913483    </span>│\n└───────────────────────────┴───────────────────────────┘\n</pre>\n"
      ]
     }
    },
    {
     "output_type": "display_data",
     "metadata": {
      "application/vnd.databricks.v1+output": {
       "datasetInfos": [],
       "data": "Out[38]: [{'test_loss': 0.18965651094913483, 'test_acc': 0.9404000043869019}]",
       "removedWidgets": [],
       "addedWidgets": {},
       "metadata": {},
       "type": "ansi",
       "arguments": {}
      }
     },
     "data": {
      "text/plain": [
       "Out[38]: [{'test_loss': 0.18965651094913483, 'test_acc': 0.9404000043869019}]"
      ]
     }
    }
   ],
   "execution_count": 0
  },
  {
   "cell_type": "markdown",
   "source": [
    "### Display Result"
   ],
   "metadata": {
    "application/vnd.databricks.v1+cell": {
     "showTitle": false,
     "cellMetadata": {},
     "nuid": "0333fd28-56ee-4b1d-ad59-a7ceae740e8b",
     "inputWidgets": {},
     "title": ""
    }
   }
  },
  {
   "cell_type": "code",
   "source": [
    "metrics = pd.read_csv(f\"{trainer.logger.log_dir}/metrics.csv\")\n",
    "del metrics[\"step\"]\n",
    "metrics.set_index(\"epoch\", inplace=True)\n",
    "# display(metrics.dropna(axis=1, how=\"all\").head())\n",
    "sn.relplot(data=metrics, kind=\"line\")"
   ],
   "metadata": {
    "pycharm": {
     "is_executing": true
    },
    "application/vnd.databricks.v1+cell": {
     "showTitle": false,
     "cellMetadata": {},
     "nuid": "cc0f2b9a-4fd3-47d9-9157-350b9401dbbc",
     "inputWidgets": {},
     "title": ""
    }
   },
   "outputs": [
    {
     "output_type": "display_data",
     "metadata": {
      "application/vnd.databricks.v1+output": {
       "datasetInfos": [],
       "data": "Out[39]: <seaborn.axisgrid.FacetGrid at 0x7f7032eff6a0>",
       "removedWidgets": [],
       "addedWidgets": {},
       "metadata": {},
       "type": "ansi",
       "arguments": {}
      }
     },
     "data": {
      "text/plain": [
       "Out[39]: <seaborn.axisgrid.FacetGrid at 0x7f7032eff6a0>"
      ]
     }
    },
    {
     "output_type": "display_data",
     "metadata": {
      "application/vnd.databricks.v1+output": {
       "datasetInfos": [],
       "data": "data:image/png;base64,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\n",
       "removedWidgets": [],
       "addedWidgets": {},
       "metadata": {},
       "type": "image",
       "arguments": {}
      }
     },
     "data": {
      "image/png": "[encoded data removed]"
     }
    }
   ],
   "execution_count": 0
  },
  {
   "cell_type": "markdown",
   "source": [
    "### Dump The Final Checkpoint"
   ],
   "metadata": {
    "application/vnd.databricks.v1+cell": {
     "showTitle": false,
     "cellMetadata": {},
     "nuid": "d2776b0c-eb59-482a-a2eb-b3fa6adc077e",
     "inputWidgets": {},
     "title": ""
    }
   }
  },
  {
   "cell_type": "code",
   "source": [
    "trainer.save_checkpoint(\"checkpoints/Resnet18-CIFAR10.ckpt\")"
   ],
   "metadata": {
    "pycharm": {
     "is_executing": true
    },
    "application/vnd.databricks.v1+cell": {
     "showTitle": false,
     "cellMetadata": {},
     "nuid": "b52493a3-8373-431e-943d-d839bd5cb2ab",
     "inputWidgets": {},
     "title": ""
    }
   },
   "outputs": [],
   "execution_count": 0
  },
  {
   "cell_type": "markdown",
   "source": [
    "## Process Out-of-Distribution Dataset"
   ],
   "metadata": {
    "application/vnd.databricks.v1+cell": {
     "showTitle": false,
     "cellMetadata": {},
     "nuid": "bb610aa9-af6d-4f83-97f2-f43d95be61e1",
     "inputWidgets": {},
     "title": ""
    }
   }
  },
  {
   "cell_type": "markdown",
   "source": [
    "### Create SHVN DataLoader"
   ],
   "metadata": {
    "application/vnd.databricks.v1+cell": {
     "showTitle": false,
     "cellMetadata": {},
     "nuid": "e364eeb7-b57d-4096-b501-38e247471fae",
     "inputWidgets": {},
     "title": ""
    }
   }
  },
  {
   "cell_type": "code",
   "source": [
    "image_size = 32\n",
    "eval_transforms = torchvision.transforms.Compose(\n",
    "    [\n",
    "        torchvision.transforms.Resize((image_size, image_size)),\n",
    "        torchvision.transforms.CenterCrop(image_size),\n",
    "        torchvision.transforms.ToTensor(),\n",
    "        # borrow from pl_bolts.transforms.dataset_normalizations.cifar10_normalization\n",
    "        torchvision.transforms.Normalize(\n",
    "            mean=[x / 255.0 for x in [125.3, 123.0, 113.9]],\n",
    "            std=[x / 255.0 for x in [63.0, 62.1, 66.7]],\n",
    "        ),\n",
    "    ]\n",
    ")\n",
    "ood_dataset = torchvision.datasets.SVHN(\n",
    "    PATH_DATASETS, split=\"test\", transform=eval_transforms, download=True\n",
    ")\n",
    "ood_loader = torch.utils.data.DataLoader(\n",
    "    ood_dataset,\n",
    "    batch_size=BATCH_SIZE,\n",
    "    shuffle=True,\n",
    "    num_workers=NUM_WORKERS,\n",
    ")"
   ],
   "metadata": {
    "pycharm": {
     "is_executing": true
    },
    "application/vnd.databricks.v1+cell": {
     "showTitle": false,
     "cellMetadata": {},
     "nuid": "e900818b-02ac-4ac5-bff0-bbfc7d53f05d",
     "inputWidgets": {},
     "title": ""
    }
   },
   "outputs": [
    {
     "output_type": "display_data",
     "metadata": {
      "application/vnd.databricks.v1+output": {
       "datasetInfos": [],
       "data": "Downloading http://ufldl.stanford.edu/housenumbers/test_32x32.mat to datasets/test_32x32.mat\n",
       "removedWidgets": [],
       "addedWidgets": {},
       "metadata": {},
       "type": "ansi",
       "arguments": {}
      }
     },
     "data": {
      "text/plain": [
       "Downloading http://ufldl.stanford.edu/housenumbers/test_32x32.mat to datasets/test_32x32.mat\n"
      ]
     }
    },
    {
     "output_type": "display_data",
     "metadata": {
      "application/vnd.databricks.v1+output": {
       "datasetInfos": [],
       "data": {
        "text/plain": "  0%|          | 0/64275384 [00:00<?, ?it/s]",
        "application/vnd.jupyter.widget-view+json": {
         "version_major": 2,
         "version_minor": 0,
         "model_id": "956577be299645e3992cece27e9675dd"
        }
       },
       "removedWidgets": [],
       "addedWidgets": {},
       "metadata": {
        "kernelSessionId": "2b67c067-f027e3ff5b5d1ac2cfd7c900"
       },
       "type": "mimeBundle",
       "arguments": {}
      }
     },
     "data": {
      "text/plain": "  0%|          | 0/64275384 [00:00<?, ?it/s]",
      "application/vnd.jupyter.widget-view+json": {
       "version_major": 2,
       "version_minor": 0,
       "model_id": "956577be299645e3992cece27e9675dd"
      }
     }
    }
   ],
   "execution_count": 0
  },
  {
   "cell_type": "markdown",
   "source": [
    "## Extract Features (Embedding)"
   ],
   "metadata": {
    "application/vnd.databricks.v1+cell": {
     "showTitle": false,
     "cellMetadata": {},
     "nuid": "9eea8149-a55b-4a96-a57d-8a6950b478e8",
     "inputWidgets": {},
     "title": ""
    }
   }
  },
  {
   "cell_type": "markdown",
   "source": [
    "### Reload Model"
   ],
   "metadata": {
    "application/vnd.databricks.v1+cell": {
     "showTitle": false,
     "cellMetadata": {},
     "nuid": "cf615747-5f1a-4500-b8eb-9fb15e51647d",
     "inputWidgets": {},
     "title": ""
    }
   }
  },
  {
   "cell_type": "code",
   "source": [
    "model = LitResnet.load_from_checkpoint(\n",
    "    \"checkpoints/Resnet18-CIFAR10.ckpt\", map_location=torch.device(\"cpu\")\n",
    ")\n",
    "model.eval()"
   ],
   "metadata": {
    "pycharm": {
     "is_executing": true
    },
    "application/vnd.databricks.v1+cell": {
     "showTitle": false,
     "cellMetadata": {},
     "nuid": "33a095b9-58cb-4a17-8732-39429f8e70e8",
     "inputWidgets": {},
     "title": ""
    }
   },
   "outputs": [
    {
     "output_type": "display_data",
     "metadata": {
      "application/vnd.databricks.v1+output": {
       "datasetInfos": [],
       "data": "Out[42]: LitResnet(\n  (model): ResNet(\n    (conv1): Conv2d(3, 64, kernel_size=(3, 3), stride=(1, 1), padding=(1, 1), bias=False)\n    (bn1): BatchNorm2d(64, eps=1e-05, momentum=0.1, affine=True, track_running_stats=True)\n    (relu): ReLU(inplace=True)\n    (maxpool): Identity()\n    (layer1): Sequential(\n      (0): BasicBlock(\n        (conv1): Conv2d(64, 64, kernel_size=(3, 3), stride=(1, 1), padding=(1, 1), bias=False)\n        (bn1): BatchNorm2d(64, eps=1e-05, momentum=0.1, affine=True, track_running_stats=True)\n        (relu): ReLU(inplace=True)\n        (conv2): Conv2d(64, 64, kernel_size=(3, 3), stride=(1, 1), padding=(1, 1), bias=False)\n        (bn2): BatchNorm2d(64, eps=1e-05, momentum=0.1, affine=True, track_running_stats=True)\n      )\n      (1): BasicBlock(\n        (conv1): Conv2d(64, 64, kernel_size=(3, 3), stride=(1, 1), padding=(1, 1), bias=False)\n        (bn1): BatchNorm2d(64, eps=1e-05, momentum=0.1, affine=True, track_running_stats=True)\n        (relu): ReLU(inplace=True)\n        (conv2): Conv2d(64, 64, kernel_size=(3, 3), stride=(1, 1), padding=(1, 1), bias=False)\n        (bn2): BatchNorm2d(64, eps=1e-05, momentum=0.1, affine=True, track_running_stats=True)\n      )\n    )\n    (layer2): Sequential(\n      (0): BasicBlock(\n        (conv1): Conv2d(64, 128, kernel_size=(3, 3), stride=(2, 2), padding=(1, 1), bias=False)\n        (bn1): BatchNorm2d(128, eps=1e-05, momentum=0.1, affine=True, track_running_stats=True)\n        (relu): ReLU(inplace=True)\n        (conv2): Conv2d(128, 128, kernel_size=(3, 3), stride=(1, 1), padding=(1, 1), bias=False)\n        (bn2): BatchNorm2d(128, eps=1e-05, momentum=0.1, affine=True, track_running_stats=True)\n        (downsample): Sequential(\n          (0): Conv2d(64, 128, kernel_size=(1, 1), stride=(2, 2), bias=False)\n          (1): BatchNorm2d(128, eps=1e-05, momentum=0.1, affine=True, track_running_stats=True)\n        )\n      )\n      (1): BasicBlock(\n        (conv1): Conv2d(128, 128, kernel_size=(3, 3), stride=(1, 1), padding=(1, 1), bias=False)\n        (bn1): BatchNorm2d(128, eps=1e-05, momentum=0.1, affine=True, track_running_stats=True)\n        (relu): ReLU(inplace=True)\n        (conv2): Conv2d(128, 128, kernel_size=(3, 3), stride=(1, 1), padding=(1, 1), bias=False)\n        (bn2): BatchNorm2d(128, eps=1e-05, momentum=0.1, affine=True, track_running_stats=True)\n      )\n    )\n    (layer3): Sequential(\n      (0): BasicBlock(\n        (conv1): Conv2d(128, 256, kernel_size=(3, 3), stride=(2, 2), padding=(1, 1), bias=False)\n        (bn1): BatchNorm2d(256, eps=1e-05, momentum=0.1, affine=True, track_running_stats=True)\n        (relu): ReLU(inplace=True)\n        (conv2): Conv2d(256, 256, kernel_size=(3, 3), stride=(1, 1), padding=(1, 1), bias=False)\n        (bn2): BatchNorm2d(256, eps=1e-05, momentum=0.1, affine=True, track_running_stats=True)\n        (downsample): Sequential(\n          (0): Conv2d(128, 256, kernel_size=(1, 1), stride=(2, 2), bias=False)\n          (1): BatchNorm2d(256, eps=1e-05, momentum=0.1, affine=True, track_running_stats=True)\n        )\n      )\n      (1): BasicBlock(\n        (conv1): Conv2d(256, 256, kernel_size=(3, 3), stride=(1, 1), padding=(1, 1), bias=False)\n        (bn1): BatchNorm2d(256, eps=1e-05, momentum=0.1, affine=True, track_running_stats=True)\n        (relu): ReLU(inplace=True)\n        (conv2): Conv2d(256, 256, kernel_size=(3, 3), stride=(1, 1), padding=(1, 1), bias=False)\n        (bn2): BatchNorm2d(256, eps=1e-05, momentum=0.1, affine=True, track_running_stats=True)\n      )\n    )\n    (layer4): Sequential(\n      (0): BasicBlock(\n        (conv1): Conv2d(256, 512, kernel_size=(3, 3), stride=(2, 2), padding=(1, 1), bias=False)\n        (bn1): BatchNorm2d(512, eps=1e-05, momentum=0.1, affine=True, track_running_stats=True)\n        (relu): ReLU(inplace=True)\n        (conv2): Conv2d(512, 512, kernel_size=(3, 3), stride=(1, 1), padding=(1, 1), bias=False)\n        (bn2): BatchNorm2d(512, eps=1e-05, momentum=0.1, affine=True, track_running_stats=True)\n        (downsample): Sequential(\n          (0): Conv2d(256, 512, kernel_size=(1, 1), stride=(2, 2), bias=False)\n          (1): BatchNorm2d(512, eps=1e-05, momentum=0.1, affine=True, track_running_stats=True)\n        )\n      )\n      (1): BasicBlock(\n        (conv1): Conv2d(512, 512, kernel_size=(3, 3), stride=(1, 1), padding=(1, 1), bias=False)\n        (bn1): BatchNorm2d(512, eps=1e-05, momentum=0.1, affine=True, track_running_stats=True)\n        (relu): ReLU(inplace=True)\n        (conv2): Conv2d(512, 512, kernel_size=(3, 3), stride=(1, 1), padding=(1, 1), bias=False)\n        (bn2): BatchNorm2d(512, eps=1e-05, momentum=0.1, affine=True, track_running_stats=True)\n      )\n    )\n    (avgpool): AdaptiveAvgPool2d(output_size=(1, 1))\n    (fc): Linear(in_features=512, out_features=10, bias=True)\n  )\n)",
       "removedWidgets": [],
       "addedWidgets": {},
       "metadata": {},
       "type": "ansi",
       "arguments": {}
      }
     },
     "data": {
      "text/plain": [
       "Out[42]: LitResnet(\n  (model): ResNet(\n    (conv1): Conv2d(3, 64, kernel_size=(3, 3), stride=(1, 1), padding=(1, 1), bias=False)\n    (bn1): BatchNorm2d(64, eps=1e-05, momentum=0.1, affine=True, track_running_stats=True)\n    (relu): ReLU(inplace=True)\n    (maxpool): Identity()\n    (layer1): Sequential(\n      (0): BasicBlock(\n        (conv1): Conv2d(64, 64, kernel_size=(3, 3), stride=(1, 1), padding=(1, 1), bias=False)\n        (bn1): BatchNorm2d(64, eps=1e-05, momentum=0.1, affine=True, track_running_stats=True)\n        (relu): ReLU(inplace=True)\n        (conv2): Conv2d(64, 64, kernel_size=(3, 3), stride=(1, 1), padding=(1, 1), bias=False)\n        (bn2): BatchNorm2d(64, eps=1e-05, momentum=0.1, affine=True, track_running_stats=True)\n      )\n      (1): BasicBlock(\n        (conv1): Conv2d(64, 64, kernel_size=(3, 3), stride=(1, 1), padding=(1, 1), bias=False)\n        (bn1): BatchNorm2d(64, eps=1e-05, momentum=0.1, affine=True, track_running_stats=True)\n        (relu): ReLU(inplace=True)\n        (conv2): Conv2d(64, 64, kernel_size=(3, 3), stride=(1, 1), padding=(1, 1), bias=False)\n        (bn2): BatchNorm2d(64, eps=1e-05, momentum=0.1, affine=True, track_running_stats=True)\n      )\n    )\n    (layer2): Sequential(\n      (0): BasicBlock(\n        (conv1): Conv2d(64, 128, kernel_size=(3, 3), stride=(2, 2), padding=(1, 1), bias=False)\n        (bn1): BatchNorm2d(128, eps=1e-05, momentum=0.1, affine=True, track_running_stats=True)\n        (relu): ReLU(inplace=True)\n        (conv2): Conv2d(128, 128, kernel_size=(3, 3), stride=(1, 1), padding=(1, 1), bias=False)\n        (bn2): BatchNorm2d(128, eps=1e-05, momentum=0.1, affine=True, track_running_stats=True)\n        (downsample): Sequential(\n          (0): Conv2d(64, 128, kernel_size=(1, 1), stride=(2, 2), bias=False)\n          (1): BatchNorm2d(128, eps=1e-05, momentum=0.1, affine=True, track_running_stats=True)\n        )\n      )\n      (1): BasicBlock(\n        (conv1): Conv2d(128, 128, kernel_size=(3, 3), stride=(1, 1), padding=(1, 1), bias=False)\n        (bn1): BatchNorm2d(128, eps=1e-05, momentum=0.1, affine=True, track_running_stats=True)\n        (relu): ReLU(inplace=True)\n        (conv2): Conv2d(128, 128, kernel_size=(3, 3), stride=(1, 1), padding=(1, 1), bias=False)\n        (bn2): BatchNorm2d(128, eps=1e-05, momentum=0.1, affine=True, track_running_stats=True)\n      )\n    )\n    (layer3): Sequential(\n      (0): BasicBlock(\n        (conv1): Conv2d(128, 256, kernel_size=(3, 3), stride=(2, 2), padding=(1, 1), bias=False)\n        (bn1): BatchNorm2d(256, eps=1e-05, momentum=0.1, affine=True, track_running_stats=True)\n        (relu): ReLU(inplace=True)\n        (conv2): Conv2d(256, 256, kernel_size=(3, 3), stride=(1, 1), padding=(1, 1), bias=False)\n        (bn2): BatchNorm2d(256, eps=1e-05, momentum=0.1, affine=True, track_running_stats=True)\n        (downsample): Sequential(\n          (0): Conv2d(128, 256, kernel_size=(1, 1), stride=(2, 2), bias=False)\n          (1): BatchNorm2d(256, eps=1e-05, momentum=0.1, affine=True, track_running_stats=True)\n        )\n      )\n      (1): BasicBlock(\n        (conv1): Conv2d(256, 256, kernel_size=(3, 3), stride=(1, 1), padding=(1, 1), bias=False)\n        (bn1): BatchNorm2d(256, eps=1e-05, momentum=0.1, affine=True, track_running_stats=True)\n        (relu): ReLU(inplace=True)\n        (conv2): Conv2d(256, 256, kernel_size=(3, 3), stride=(1, 1), padding=(1, 1), bias=False)\n        (bn2): BatchNorm2d(256, eps=1e-05, momentum=0.1, affine=True, track_running_stats=True)\n      )\n    )\n    (layer4): Sequential(\n      (0): BasicBlock(\n        (conv1): Conv2d(256, 512, kernel_size=(3, 3), stride=(2, 2), padding=(1, 1), bias=False)\n        (bn1): BatchNorm2d(512, eps=1e-05, momentum=0.1, affine=True, track_running_stats=True)\n        (relu): ReLU(inplace=True)\n        (conv2): Conv2d(512, 512, kernel_size=(3, 3), stride=(1, 1), padding=(1, 1), bias=False)\n        (bn2): BatchNorm2d(512, eps=1e-05, momentum=0.1, affine=True, track_running_stats=True)\n        (downsample): Sequential(\n          (0): Conv2d(256, 512, kernel_size=(1, 1), stride=(2, 2), bias=False)\n          (1): BatchNorm2d(512, eps=1e-05, momentum=0.1, affine=True, track_running_stats=True)\n        )\n      )\n      (1): BasicBlock(\n        (conv1): Conv2d(512, 512, kernel_size=(3, 3), stride=(1, 1), padding=(1, 1), bias=False)\n        (bn1): BatchNorm2d(512, eps=1e-05, momentum=0.1, affine=True, track_running_stats=True)\n        (relu): ReLU(inplace=True)\n        (conv2): Conv2d(512, 512, kernel_size=(3, 3), stride=(1, 1), padding=(1, 1), bias=False)\n        (bn2): BatchNorm2d(512, eps=1e-05, momentum=0.1, affine=True, track_running_stats=True)\n      )\n    )\n    (avgpool): AdaptiveAvgPool2d(output_size=(1, 1))\n    (fc): Linear(in_features=512, out_features=10, bias=True)\n  )\n)"
      ]
     }
    }
   ],
   "execution_count": 0
  },
  {
   "cell_type": "markdown",
   "source": [
    "### Change CIFAR-10 Data Loader Transform Function"
   ],
   "metadata": {
    "application/vnd.databricks.v1+cell": {
     "showTitle": false,
     "cellMetadata": {},
     "nuid": "cf266eac-0e3a-4fdf-af7d-4504d2d93221",
     "inputWidgets": {},
     "title": ""
    }
   }
  },
  {
   "cell_type": "code",
   "source": [
    "train_dataset = torchvision.datasets.CIFAR10(\n",
    "    root=PATH_DATASETS,\n",
    "    train=True,\n",
    "    download=True,\n",
    "    transform=test_transforms,\n",
    ")\n",
    "train_loader = torch.utils.data.DataLoader(\n",
    "    train_dataset,\n",
    "    batch_size=BATCH_SIZE,\n",
    "    shuffle=False,\n",
    "    num_workers=NUM_WORKERS,\n",
    ")\n",
    "val_dataset = torchvision.datasets.CIFAR10(\n",
    "    root=PATH_DATASETS,\n",
    "    train=False,\n",
    "    download=True,\n",
    "    transform=test_transforms,\n",
    ")\n",
    "val_loader = torch.utils.data.DataLoader(\n",
    "    val_dataset,\n",
    "    batch_size=BATCH_SIZE,\n",
    "    shuffle=False,\n",
    "    num_workers=NUM_WORKERS,\n",
    ")"
   ],
   "metadata": {
    "pycharm": {
     "is_executing": true
    },
    "application/vnd.databricks.v1+cell": {
     "showTitle": false,
     "cellMetadata": {},
     "nuid": "5a5522f9-b43b-47ec-92f6-522d88ba7346",
     "inputWidgets": {},
     "title": ""
    }
   },
   "outputs": [
    {
     "output_type": "display_data",
     "metadata": {
      "application/vnd.databricks.v1+output": {
       "datasetInfos": [],
       "data": "Files already downloaded and verified\nFiles already downloaded and verified\n",
       "removedWidgets": [],
       "addedWidgets": {},
       "metadata": {},
       "type": "ansi",
       "arguments": {}
      }
     },
     "data": {
      "text/plain": [
       "Files already downloaded and verified\nFiles already downloaded and verified\n"
      ]
     }
    }
   ],
   "execution_count": 0
  },
  {
   "cell_type": "markdown",
   "source": [
    "### Feature Extraction Function"
   ],
   "metadata": {
    "application/vnd.databricks.v1+cell": {
     "showTitle": false,
     "cellMetadata": {},
     "nuid": "7e25b497-2ddf-4ccf-88eb-c5acde86bb29",
     "inputWidgets": {},
     "title": ""
    }
   }
  },
  {
   "cell_type": "code",
   "source": [
    "def extract_features(model, dataloader):\n",
    "    features = []\n",
    "    for data, label in dataloader:\n",
    "        # get the last hidden layer's output from model, size: (batch_size, 512, 4, 4)\n",
    "        x = model.features(data)\n",
    "        # avg pool, size: (batch_size, 512, 1, 1)\n",
    "        x = F.adaptive_avg_pool2d(x, 1)\n",
    "        # squeeze, size: (batch_size, 512)\n",
    "        x = x.squeeze()\n",
    "        # detach\n",
    "        x = x.data.cpu().numpy()\n",
    "\n",
    "        features.append(x)\n",
    "\n",
    "    # merge as a large numpy array\n",
    "    features = np.vstack(features)\n",
    "    # ensure data type\n",
    "    features = features.astype(np.float32)\n",
    "    # normalization\n",
    "    features = features / (\n",
    "        np.linalg.norm(features, ord=2, axis=-1, keepdims=True) + 1e-10\n",
    "    )\n",
    "\n",
    "    return features"
   ],
   "metadata": {
    "pycharm": {
     "is_executing": true
    },
    "application/vnd.databricks.v1+cell": {
     "showTitle": false,
     "cellMetadata": {},
     "nuid": "6b2d5b2f-3ad4-49bd-9d6a-6460ca5d0b36",
     "inputWidgets": {},
     "title": ""
    }
   },
   "outputs": [],
   "execution_count": 0
  },
  {
   "cell_type": "markdown",
   "source": [
    "### CIFAR-10 Embedding"
   ],
   "metadata": {
    "application/vnd.databricks.v1+cell": {
     "showTitle": false,
     "cellMetadata": {},
     "nuid": "29deb844-fe0f-4720-aaf5-175cc636387e",
     "inputWidgets": {},
     "title": ""
    }
   }
  },
  {
   "cell_type": "code",
   "source": [
    "train_features = extract_features(model, train_loader)\n",
    "test_features = extract_features(model, val_loader)"
   ],
   "metadata": {
    "pycharm": {
     "is_executing": true
    },
    "application/vnd.databricks.v1+cell": {
     "showTitle": false,
     "cellMetadata": {},
     "nuid": "12e7b90b-ccab-4dff-af30-bd76535646d1",
     "inputWidgets": {},
     "title": ""
    }
   },
   "outputs": [],
   "execution_count": 0
  },
  {
   "cell_type": "markdown",
   "source": [
    "### OOD Embedding"
   ],
   "metadata": {
    "application/vnd.databricks.v1+cell": {
     "showTitle": false,
     "cellMetadata": {},
     "nuid": "880b87a8-2d14-402b-af31-4aecd6d06458",
     "inputWidgets": {},
     "title": ""
    }
   }
  },
  {
   "cell_type": "code",
   "source": [
    "ood_features = extract_features(model, ood_loader)"
   ],
   "metadata": {
    "pycharm": {
     "is_executing": true
    },
    "application/vnd.databricks.v1+cell": {
     "showTitle": false,
     "cellMetadata": {},
     "nuid": "67495621-d236-4635-9480-4fc5c88dff5c",
     "inputWidgets": {},
     "title": ""
    }
   },
   "outputs": [],
   "execution_count": 0
  },
  {
   "cell_type": "markdown",
   "source": [
    "## KNN with FAISS"
   ],
   "metadata": {
    "application/vnd.databricks.v1+cell": {
     "showTitle": false,
     "cellMetadata": {},
     "nuid": "2e30dc46-1aae-40c1-8066-ea03091c9a46",
     "inputWidgets": {},
     "title": ""
    }
   }
  },
  {
   "cell_type": "markdown",
   "source": [
    "### Create Index with FAISS (CIFAR-10 Train)"
   ],
   "metadata": {
    "application/vnd.databricks.v1+cell": {
     "showTitle": false,
     "cellMetadata": {},
     "nuid": "e250bab2-9973-42f4-ac7e-fb320f70b42d",
     "inputWidgets": {},
     "title": ""
    }
   }
  },
  {
   "cell_type": "code",
   "source": [
    "index = faiss.IndexFlatL2(train_features.shape[1])\n",
    "index.add(train_features)"
   ],
   "metadata": {
    "pycharm": {
     "is_executing": true
    },
    "application/vnd.databricks.v1+cell": {
     "showTitle": false,
     "cellMetadata": {},
     "nuid": "7d3d3eab-9545-450a-babc-589db2d460fc",
     "inputWidgets": {},
     "title": ""
    }
   },
   "outputs": [],
   "execution_count": 0
  },
  {
   "cell_type": "markdown",
   "source": [
    "### Find K-Nearest Points and Distances (CIFAR-10 Test)"
   ],
   "metadata": {
    "tags": [],
    "application/vnd.databricks.v1+cell": {
     "showTitle": false,
     "cellMetadata": {},
     "nuid": "7d79f651-fcd6-4cd4-8f12-a6616af1bee2",
     "inputWidgets": {},
     "title": ""
    }
   }
  },
  {
   "cell_type": "code",
   "source": [
    "k = 50\n",
    "in_l2_distances, in_k_closest_points = index.search(test_features, k)"
   ],
   "metadata": {
    "pycharm": {
     "is_executing": true
    },
    "application/vnd.databricks.v1+cell": {
     "showTitle": false,
     "cellMetadata": {},
     "nuid": "b39bd668-8b52-44c2-9c61-8191170f69f2",
     "inputWidgets": {},
     "title": ""
    }
   },
   "outputs": [],
   "execution_count": 0
  },
  {
   "cell_type": "markdown",
   "source": [
    "### Select the Furthest Distance Only (CIFAR-10 Test)"
   ],
   "metadata": {
    "application/vnd.databricks.v1+cell": {
     "showTitle": false,
     "cellMetadata": {},
     "nuid": "ef72f8e1-b20a-478d-a0fc-a7c15c651785",
     "inputWidgets": {},
     "title": ""
    }
   }
  },
  {
   "cell_type": "code",
   "source": [
    "# in_l2_distances is sorted increasingly\n",
    "in_scores = in_l2_distances[:, -1]"
   ],
   "metadata": {
    "pycharm": {
     "is_executing": true
    },
    "application/vnd.databricks.v1+cell": {
     "showTitle": false,
     "cellMetadata": {},
     "nuid": "064f7cef-0067-4eaa-a317-1edf00bb979d",
     "inputWidgets": {},
     "title": ""
    }
   },
   "outputs": [],
   "execution_count": 0
  },
  {
   "cell_type": "markdown",
   "source": [
    "### Find K-Nearest Points and Distances (SHVN)"
   ],
   "metadata": {
    "tags": [],
    "application/vnd.databricks.v1+cell": {
     "showTitle": false,
     "cellMetadata": {},
     "nuid": "08b2db94-cba2-42c2-bf3c-fa9ac7932925",
     "inputWidgets": {},
     "title": ""
    }
   }
  },
  {
   "cell_type": "code",
   "source": [
    "k = 50\n",
    "out_l2_distances, out_k_closest_points = index.search(ood_features, k)"
   ],
   "metadata": {
    "pycharm": {
     "is_executing": true
    },
    "application/vnd.databricks.v1+cell": {
     "showTitle": false,
     "cellMetadata": {},
     "nuid": "ecd82eab-2d92-4ebb-b858-88547e8f135a",
     "inputWidgets": {},
     "title": ""
    }
   },
   "outputs": [],
   "execution_count": 0
  },
  {
   "cell_type": "markdown",
   "source": [
    "### Select the Furthest Distance Only (SHVN)"
   ],
   "metadata": {
    "application/vnd.databricks.v1+cell": {
     "showTitle": false,
     "cellMetadata": {},
     "nuid": "f2866545-66d9-404d-91a2-963be401f0d4",
     "inputWidgets": {},
     "title": ""
    }
   }
  },
  {
   "cell_type": "code",
   "source": [
    "# out_l2_distances is sorted increasingly\n",
    "out_scores = out_l2_distances[:, -1]"
   ],
   "metadata": {
    "pycharm": {
     "is_executing": true
    },
    "application/vnd.databricks.v1+cell": {
     "showTitle": false,
     "cellMetadata": {},
     "nuid": "5f96a8dc-6281-49ea-ab4e-7f1c9e8da1f4",
     "inputWidgets": {},
     "title": ""
    }
   },
   "outputs": [],
   "execution_count": 0
  },
  {
   "cell_type": "markdown",
   "source": [
    "## Determine Threshold"
   ],
   "metadata": {
    "application/vnd.databricks.v1+cell": {
     "showTitle": false,
     "cellMetadata": {},
     "nuid": "3f787df4-bc2b-4d6f-892f-fac05eb99f5a",
     "inputWidgets": {},
     "title": ""
    }
   }
  },
  {
   "cell_type": "markdown",
   "source": [
    "### Sort In-of-Distribution and Out-of-Distribution Samples"
   ],
   "metadata": {
    "application/vnd.databricks.v1+cell": {
     "showTitle": false,
     "cellMetadata": {},
     "nuid": "866f4710-6f33-4383-9d71-b6821df02d24",
     "inputWidgets": {},
     "title": ""
    }
   }
  },
  {
   "cell_type": "code",
   "source": [
    "in_scores.sort()\n",
    "out_scores.sort()"
   ],
   "metadata": {
    "pycharm": {
     "is_executing": true
    },
    "application/vnd.databricks.v1+cell": {
     "showTitle": false,
     "cellMetadata": {},
     "nuid": "b037619f-4ad9-4b21-935a-d8cf778bc197",
     "inputWidgets": {},
     "title": ""
    }
   },
   "outputs": [],
   "execution_count": 0
  },
  {
   "cell_type": "markdown",
   "source": [
    "### Find the Point Where TPR = 0.95"
   ],
   "metadata": {
    "tags": [],
    "application/vnd.databricks.v1+cell": {
     "showTitle": false,
     "cellMetadata": {},
     "nuid": "6961ace3-1491-474b-b672-82f8270958e7",
     "inputWidgets": {},
     "title": ""
    }
   }
  },
  {
   "cell_type": "code",
   "source": [
    "threshold = in_scores[round(0.95 * len(in_scores))]"
   ],
   "metadata": {
    "pycharm": {
     "is_executing": true
    },
    "application/vnd.databricks.v1+cell": {
     "showTitle": false,
     "cellMetadata": {},
     "nuid": "2deff9ed-fe47-4107-94a2-27ddbad0cb4d",
     "inputWidgets": {},
     "title": ""
    }
   },
   "outputs": [],
   "execution_count": 0
  },
  {
   "cell_type": "markdown",
   "source": [
    "## Calculate Metrics\n",
    "\n",
    "Label 1 is in distribution  \n",
    "Label 0 is out distribution"
   ],
   "metadata": {
    "application/vnd.databricks.v1+cell": {
     "showTitle": false,
     "cellMetadata": {},
     "nuid": "f7546972-e99e-4ffe-a7e2-3c96691d269c",
     "inputWidgets": {},
     "title": ""
    }
   }
  },
  {
   "cell_type": "code",
   "source": [
    "tp = 0\n",
    "tn = 0\n",
    "fp = 0\n",
    "fn = 0\n",
    "\n",
    "for point in in_scores:\n",
    "    if point <= threshold:\n",
    "        tp += 1\n",
    "    else:\n",
    "        fn += 1\n",
    "\n",
    "for point in out_scores:\n",
    "    if point <= threshold:\n",
    "        fp += 1\n",
    "    else:\n",
    "        tn += 1\n",
    "\n",
    "tp_rate = tp / (tp + fn)\n",
    "tn_rate = tn / (tn + fp)\n",
    "fp_rate = fp / (fp + tn)\n",
    "fn_rate = fn / (fn + tp)\n",
    "\n",
    "result = {\n",
    "    \"tp\": tp,\n",
    "    \"tn\": tn,\n",
    "    \"fp\": fp,\n",
    "    \"fn\": fn,\n",
    "    \"tpr\": tp_rate,\n",
    "    \"fpr\": fp_rate,\n",
    "}\n",
    "\n",
    "print(result)"
   ],
   "metadata": {
    "pycharm": {
     "is_executing": true
    },
    "application/vnd.databricks.v1+cell": {
     "showTitle": false,
     "cellMetadata": {},
     "nuid": "b79b1ab1-e9b1-47e0-b058-a251c4fb6ee1",
     "inputWidgets": {},
     "title": ""
    }
   },
   "outputs": [
    {
     "output_type": "display_data",
     "metadata": {
      "application/vnd.databricks.v1+output": {
       "datasetInfos": [],
       "data": "{'tp': 9501, 'tn': 16281, 'fp': 9751, 'fn': 499, 'tpr': 0.9501, 'fpr': 0.3745774431468961}\n",
       "removedWidgets": [],
       "addedWidgets": {},
       "metadata": {},
       "type": "ansi",
       "arguments": {}
      }
     },
     "data": {
      "text/plain": [
       "{'tp': 9501, 'tn': 16281, 'fp': 9751, 'fn': 499, 'tpr': 0.9501, 'fpr': 0.3745774431468961}\n"
      ]
     }
    }
   ],
   "execution_count": 0
  }
 ],
 "metadata": {
  "kernelspec": {
   "display_name": "Python 3 (ipykernel)",
   "language": "python",
   "name": "python3"
  },
  "language_info": {
   "mimetype": "text/x-python",
   "name": "python",
   "pygments_lexer": "ipython3",
   "codemirror_mode": {
    "name": "ipython",
    "version": 3
   },
   "version": "3.9.5",
   "nbconvert_exporter": "python",
   "file_extension": ".py"
  },
  "application/vnd.databricks.v1+notebook": {
   "notebookName": "Rewrite OON with KNN",
   "dashboards": [],
   "notebookMetadata": {
    "pythonIndentUnit": 4
   },
   "language": "python",
   "widgets": {},
   "notebookOrigID": 1117025697217763
  }
 },
 "nbformat": 4,
 "nbformat_minor": 0
}
